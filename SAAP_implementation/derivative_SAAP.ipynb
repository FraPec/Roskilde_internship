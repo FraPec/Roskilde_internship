{
 "cells": [
  {
   "cell_type": "code",
   "execution_count": 1,
   "id": "7a0aa06c",
   "metadata": {},
   "outputs": [],
   "source": [
    "from sympy import *\n"
   ]
  },
  {
   "cell_type": "code",
   "execution_count": 2,
   "id": "48698944",
   "metadata": {},
   "outputs": [],
   "source": [
    "r = Symbol('r')\n",
    "a0 = Symbol('a0')\n",
    "a1 = Symbol('a1')\n",
    "a2 = Symbol('a2')\n",
    "a3 = Symbol('a3')\n",
    "a4 = Symbol('a4')\n",
    "a5 = Symbol('a5')"
   ]
  },
  {
   "cell_type": "code",
   "execution_count": 3,
   "id": "501b65e6",
   "metadata": {},
   "outputs": [
    {
     "data": {
      "text/latex": [
       "$\\displaystyle \\frac{\\frac{a_{0} e^{a_{1} r}}{r} + a_{2} e^{a_{3} r} + a_{4}}{a_{5} r^{6} + 1}$"
      ],
      "text/plain": [
       "(a0*exp(a1*r)/r + a2*exp(a3*r) + a4)/(a5*r**6 + 1)"
      ]
     },
     "execution_count": 3,
     "metadata": {},
     "output_type": "execute_result"
    }
   ],
   "source": [
    "saap_num = (a0 * exp(a1*r) + a2 * exp(a3*r) + a4)\n",
    "saap_den = (1 + a5 * r**6)\n",
    "saap = saap_num / saap_den\n",
    "saap"
   ]
  },
  {
   "cell_type": "code",
   "execution_count": 4,
   "id": "cbd3342b",
   "metadata": {},
   "outputs": [],
   "source": [
    "dsaap_dr = diff(saap, r)\n",
    "d2saap_d2r = diff(dsaap_dr, r)"
   ]
  },
  {
   "cell_type": "code",
   "execution_count": 5,
   "id": "e2ca2e03",
   "metadata": {},
   "outputs": [
    {
     "data": {
      "text/latex": [
       "$\\displaystyle - \\frac{6 a_{5} r^{5} \\left(\\frac{a_{0} e^{a_{1} r}}{r} + a_{2} e^{a_{3} r} + a_{4}\\right)}{\\left(a_{5} r^{6} + 1\\right)^{2}} + \\frac{\\frac{a_{0} a_{1} e^{a_{1} r}}{r} - \\frac{a_{0} e^{a_{1} r}}{r^{2}} + a_{2} a_{3} e^{a_{3} r}}{a_{5} r^{6} + 1}$"
      ],
      "text/plain": [
       "-6*a5*r**5*(a0*exp(a1*r)/r + a2*exp(a3*r) + a4)/(a5*r**6 + 1)**2 + (a0*a1*exp(a1*r)/r - a0*exp(a1*r)/r**2 + a2*a3*exp(a3*r))/(a5*r**6 + 1)"
      ]
     },
     "execution_count": 5,
     "metadata": {},
     "output_type": "execute_result"
    }
   ],
   "source": [
    "dsaap_dr"
   ]
  },
  {
   "cell_type": "code",
   "execution_count": 6,
   "id": "72c35ac3",
   "metadata": {},
   "outputs": [
    {
     "data": {
      "text/latex": [
       "$\\displaystyle \\frac{72 a_{5}^{2} r^{10} \\left(\\frac{a_{0} e^{a_{1} r}}{r} + a_{2} e^{a_{3} r} + a_{4}\\right)}{\\left(a_{5} r^{6} + 1\\right)^{3}} - \\frac{12 a_{5} r^{5} \\left(\\frac{a_{0} a_{1} e^{a_{1} r}}{r} - \\frac{a_{0} e^{a_{1} r}}{r^{2}} + a_{2} a_{3} e^{a_{3} r}\\right)}{\\left(a_{5} r^{6} + 1\\right)^{2}} - \\frac{30 a_{5} r^{4} \\left(\\frac{a_{0} e^{a_{1} r}}{r} + a_{2} e^{a_{3} r} + a_{4}\\right)}{\\left(a_{5} r^{6} + 1\\right)^{2}} + \\frac{\\frac{a_{0} a_{1}^{2} e^{a_{1} r}}{r} - \\frac{2 a_{0} a_{1} e^{a_{1} r}}{r^{2}} + \\frac{2 a_{0} e^{a_{1} r}}{r^{3}} + a_{2} a_{3}^{2} e^{a_{3} r}}{a_{5} r^{6} + 1}$"
      ],
      "text/plain": [
       "72*a5**2*r**10*(a0*exp(a1*r)/r + a2*exp(a3*r) + a4)/(a5*r**6 + 1)**3 - 12*a5*r**5*(a0*a1*exp(a1*r)/r - a0*exp(a1*r)/r**2 + a2*a3*exp(a3*r))/(a5*r**6 + 1)**2 - 30*a5*r**4*(a0*exp(a1*r)/r + a2*exp(a3*r) + a4)/(a5*r**6 + 1)**2 + (a0*a1**2*exp(a1*r)/r - 2*a0*a1*exp(a1*r)/r**2 + 2*a0*exp(a1*r)/r**3 + a2*a3**2*exp(a3*r))/(a5*r**6 + 1)"
      ]
     },
     "execution_count": 6,
     "metadata": {},
     "output_type": "execute_result"
    }
   ],
   "source": [
    "d2saap_d2r"
   ]
  },
  {
   "cell_type": "code",
   "execution_count": 7,
   "id": "afe77d27",
   "metadata": {},
   "outputs": [],
   "source": [
    "from sympy.utilities.lambdify import lambdastr"
   ]
  },
  {
   "cell_type": "code",
   "execution_count": 8,
   "id": "95b2cae2",
   "metadata": {},
   "outputs": [
    {
     "data": {
      "text/plain": [
       "'lambda r: ((a0*math.exp(a1*r)/r + a2*math.exp(a3*r) + a4)/(a5*r**6 + 1))'"
      ]
     },
     "execution_count": 8,
     "metadata": {},
     "output_type": "execute_result"
    }
   ],
   "source": [
    "lambdastr(r, saap)"
   ]
  },
  {
   "cell_type": "code",
   "execution_count": 9,
   "id": "16aa2aae",
   "metadata": {},
   "outputs": [
    {
     "data": {
      "text/plain": [
       "'lambda r: (-6*a5*r**5*(a0*math.exp(a1*r)/r + a2*math.exp(a3*r) + a4)/(a5*r**6 + 1)**2 + (a0*a1*math.exp(a1*r)/r - a0*math.exp(a1*r)/r**2 + a2*a3*math.exp(a3*r))/(a5*r**6 + 1))'"
      ]
     },
     "execution_count": 9,
     "metadata": {},
     "output_type": "execute_result"
    }
   ],
   "source": [
    "lambdastr(r, dsaap_dr)"
   ]
  },
  {
   "cell_type": "code",
   "execution_count": 10,
   "id": "c86aedc6",
   "metadata": {},
   "outputs": [
    {
     "data": {
      "text/plain": [
       "'lambda r: (72*a5**2*r**10*(a0*math.exp(a1*r)/r + a2*math.exp(a3*r) + a4)/(a5*r**6 + 1)**3 - 12*a5*r**5*(a0*a1*math.exp(a1*r)/r - a0*math.exp(a1*r)/r**2 + a2*a3*math.exp(a3*r))/(a5*r**6 + 1)**2 - 30*a5*r**4*(a0*math.exp(a1*r)/r + a2*math.exp(a3*r) + a4)/(a5*r**6 + 1)**2 + (a0*a1**2*math.exp(a1*r)/r - 2*a0*a1*math.exp(a1*r)/r**2 + 2*a0*math.exp(a1*r)/r**3 + a2*a3**2*math.exp(a3*r))/(a5*r**6 + 1))'"
      ]
     },
     "execution_count": 10,
     "metadata": {},
     "output_type": "execute_result"
    }
   ],
   "source": [
    "lambdastr(r, d2saap_d2r)"
   ]
  },
  {
   "cell_type": "code",
   "execution_count": null,
   "id": "3b1227b9",
   "metadata": {},
   "outputs": [],
   "source": []
  }
 ],
 "metadata": {
  "kernelspec": {
   "display_name": "Python 3 (ipykernel)",
   "language": "python",
   "name": "python3"
  },
  "language_info": {
   "codemirror_mode": {
    "name": "ipython",
    "version": 3
   },
   "file_extension": ".py",
   "mimetype": "text/x-python",
   "name": "python",
   "nbconvert_exporter": "python",
   "pygments_lexer": "ipython3",
   "version": "3.11.2"
  }
 },
 "nbformat": 4,
 "nbformat_minor": 5
}
